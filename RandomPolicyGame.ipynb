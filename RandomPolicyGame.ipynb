{
 "metadata": {
  "language_info": {
   "codemirror_mode": {
    "name": "ipython",
    "version": 3
   },
   "file_extension": ".py",
   "mimetype": "text/x-python",
   "name": "python",
   "nbconvert_exporter": "python",
   "pygments_lexer": "ipython3",
   "version": "3.7.6-final"
  },
  "orig_nbformat": 2,
  "kernelspec": {
   "name": "python3",
   "display_name": "Python 3.7.6 64-bit (conda)",
   "metadata": {
    "interpreter": {
     "hash": "266eee74bc701e1018dd134c2effed729e1544e949035e930f53042172606107"
    }
   }
  }
 },
 "nbformat": 4,
 "nbformat_minor": 2,
 "cells": [
  {
   "source": [
    "# Environment Itroduction\n",
    "We define a tabular game environment containing one agent as the player and multiple agents as the enemies. Our game contains 10 level to achieve. The aim of the player is to defeat all enemies during each level to succeed to the next level. The game difficuly becomes harder as the player triumph each level to the next one. Each environment's agents \n",
    "## Player\n",
    "The player can take an action for each time step containing staying in the same location, going to the left or right, and attacking by shooting a bullet.\n",
    "## Enemies\n",
    "Enemies are three types of Weaks, Strongs, and a UFO. There is a fleet of weak and strong enemies moving left and right together and if they reach the left or right sides of the environment aka walls then they move one cell down. <br>\n",
    "<br>\n",
    "The UFO can appear or disappear during the each game level by a random factor. When it appears, it can take an action for each time step containing staying in the same location going to the left or right, and attacking by dropping a bomb."
   ],
   "cell_type": "markdown",
   "metadata": {}
  },
  {
   "cell_type": "code",
   "execution_count": 20,
   "metadata": {},
   "outputs": [],
   "source": [
    "# IMPORTING DESIRED MODULES\n",
    "from Environment import Env"
   ]
  },
  {
   "source": [
    "Running the next cell, it will pop out a console. To start the game you should write code `env.play()` and press enter. "
   ],
   "cell_type": "markdown",
   "metadata": {}
  },
  {
   "cell_type": "code",
   "execution_count": 21,
   "metadata": {},
   "outputs": [],
   "source": [
    "env = Env(size=25, ufo_prob=0.05, bomb_prob=0.05,time_step=100, training_frames='training_frames.csv')\n",
    "env.reset()\n",
    "%qtconsole"
   ]
  },
  {
   "source": [
    "Each time we run cell above, we update memory of environment's states which can be used for introducing other policy actions for the player which are better than choosing a random action at each time step. All states seen during the game are saved in a csv file."
   ],
   "cell_type": "markdown",
   "metadata": {}
  }
 ]
}